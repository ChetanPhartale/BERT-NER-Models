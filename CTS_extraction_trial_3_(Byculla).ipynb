{
  "nbformat": 4,
  "nbformat_minor": 0,
  "metadata": {
    "colab": {
      "provenance": []
    },
    "kernelspec": {
      "name": "python3",
      "display_name": "Python 3"
    },
    "language_info": {
      "name": "python"
    }
  },
  "cells": [
    {
      "cell_type": "code",
      "execution_count": null,
      "metadata": {
        "id": "_hZ1HfIS3c35"
      },
      "outputs": [],
      "source": [
        "import pandas as pd\n",
        "import numpy as np"
      ]
    },
    {
      "cell_type": "code",
      "source": [
        "#from google.colab import drive\n",
        "#drive.mount('/content/drive')"
      ],
      "metadata": {
        "id": "7o2z727E5r3r"
      },
      "execution_count": null,
      "outputs": []
    },
    {
      "cell_type": "code",
      "source": [
        "data = pd.read_excel(r\"/content/drive/MyDrive/data/final_byculla_back_clean.xlsx\")\n",
        "data.head()"
      ],
      "metadata": {
        "colab": {
          "base_uri": "https://localhost:8080/",
          "height": 206
        },
        "id": "dOqBIhkI3kGN",
        "outputId": "47b8454b-af35-4c18-dab1-a2ea9d6cd9f9"
      },
      "execution_count": null,
      "outputs": [
        {
          "output_type": "execute_result",
          "data": {
            "text/plain": [
              "  final_cts              cts\n",
              "0       NaN              NaN\n",
              "1       NaN              NaN\n",
              "2       NaN              NaN\n",
              "3       NaN              NaN\n",
              "4     1971   1971 मध्दे आहे."
            ],
            "text/html": [
              "\n",
              "  <div id=\"df-f5dc402d-760b-476f-8cf4-b1545cbde9ac\" class=\"colab-df-container\">\n",
              "    <div>\n",
              "<style scoped>\n",
              "    .dataframe tbody tr th:only-of-type {\n",
              "        vertical-align: middle;\n",
              "    }\n",
              "\n",
              "    .dataframe tbody tr th {\n",
              "        vertical-align: top;\n",
              "    }\n",
              "\n",
              "    .dataframe thead th {\n",
              "        text-align: right;\n",
              "    }\n",
              "</style>\n",
              "<table border=\"1\" class=\"dataframe\">\n",
              "  <thead>\n",
              "    <tr style=\"text-align: right;\">\n",
              "      <th></th>\n",
              "      <th>final_cts</th>\n",
              "      <th>cts</th>\n",
              "    </tr>\n",
              "  </thead>\n",
              "  <tbody>\n",
              "    <tr>\n",
              "      <th>0</th>\n",
              "      <td>NaN</td>\n",
              "      <td>NaN</td>\n",
              "    </tr>\n",
              "    <tr>\n",
              "      <th>1</th>\n",
              "      <td>NaN</td>\n",
              "      <td>NaN</td>\n",
              "    </tr>\n",
              "    <tr>\n",
              "      <th>2</th>\n",
              "      <td>NaN</td>\n",
              "      <td>NaN</td>\n",
              "    </tr>\n",
              "    <tr>\n",
              "      <th>3</th>\n",
              "      <td>NaN</td>\n",
              "      <td>NaN</td>\n",
              "    </tr>\n",
              "    <tr>\n",
              "      <th>4</th>\n",
              "      <td>1971</td>\n",
              "      <td>1971 मध्दे आहे.</td>\n",
              "    </tr>\n",
              "  </tbody>\n",
              "</table>\n",
              "</div>\n",
              "    <div class=\"colab-df-buttons\">\n",
              "\n",
              "  <div class=\"colab-df-container\">\n",
              "    <button class=\"colab-df-convert\" onclick=\"convertToInteractive('df-f5dc402d-760b-476f-8cf4-b1545cbde9ac')\"\n",
              "            title=\"Convert this dataframe to an interactive table.\"\n",
              "            style=\"display:none;\">\n",
              "\n",
              "  <svg xmlns=\"http://www.w3.org/2000/svg\" height=\"24px\" viewBox=\"0 -960 960 960\">\n",
              "    <path d=\"M120-120v-720h720v720H120Zm60-500h600v-160H180v160Zm220 220h160v-160H400v160Zm0 220h160v-160H400v160ZM180-400h160v-160H180v160Zm440 0h160v-160H620v160ZM180-180h160v-160H180v160Zm440 0h160v-160H620v160Z\"/>\n",
              "  </svg>\n",
              "    </button>\n",
              "\n",
              "  <style>\n",
              "    .colab-df-container {\n",
              "      display:flex;\n",
              "      gap: 12px;\n",
              "    }\n",
              "\n",
              "    .colab-df-convert {\n",
              "      background-color: #E8F0FE;\n",
              "      border: none;\n",
              "      border-radius: 50%;\n",
              "      cursor: pointer;\n",
              "      display: none;\n",
              "      fill: #1967D2;\n",
              "      height: 32px;\n",
              "      padding: 0 0 0 0;\n",
              "      width: 32px;\n",
              "    }\n",
              "\n",
              "    .colab-df-convert:hover {\n",
              "      background-color: #E2EBFA;\n",
              "      box-shadow: 0px 1px 2px rgba(60, 64, 67, 0.3), 0px 1px 3px 1px rgba(60, 64, 67, 0.15);\n",
              "      fill: #174EA6;\n",
              "    }\n",
              "\n",
              "    .colab-df-buttons div {\n",
              "      margin-bottom: 4px;\n",
              "    }\n",
              "\n",
              "    [theme=dark] .colab-df-convert {\n",
              "      background-color: #3B4455;\n",
              "      fill: #D2E3FC;\n",
              "    }\n",
              "\n",
              "    [theme=dark] .colab-df-convert:hover {\n",
              "      background-color: #434B5C;\n",
              "      box-shadow: 0px 1px 3px 1px rgba(0, 0, 0, 0.15);\n",
              "      filter: drop-shadow(0px 1px 2px rgba(0, 0, 0, 0.3));\n",
              "      fill: #FFFFFF;\n",
              "    }\n",
              "  </style>\n",
              "\n",
              "    <script>\n",
              "      const buttonEl =\n",
              "        document.querySelector('#df-f5dc402d-760b-476f-8cf4-b1545cbde9ac button.colab-df-convert');\n",
              "      buttonEl.style.display =\n",
              "        google.colab.kernel.accessAllowed ? 'block' : 'none';\n",
              "\n",
              "      async function convertToInteractive(key) {\n",
              "        const element = document.querySelector('#df-f5dc402d-760b-476f-8cf4-b1545cbde9ac');\n",
              "        const dataTable =\n",
              "          await google.colab.kernel.invokeFunction('convertToInteractive',\n",
              "                                                    [key], {});\n",
              "        if (!dataTable) return;\n",
              "\n",
              "        const docLinkHtml = 'Like what you see? Visit the ' +\n",
              "          '<a target=\"_blank\" href=https://colab.research.google.com/notebooks/data_table.ipynb>data table notebook</a>'\n",
              "          + ' to learn more about interactive tables.';\n",
              "        element.innerHTML = '';\n",
              "        dataTable['output_type'] = 'display_data';\n",
              "        await google.colab.output.renderOutput(dataTable, element);\n",
              "        const docLink = document.createElement('div');\n",
              "        docLink.innerHTML = docLinkHtml;\n",
              "        element.appendChild(docLink);\n",
              "      }\n",
              "    </script>\n",
              "  </div>\n",
              "\n",
              "\n",
              "<div id=\"df-99818ad5-b2ff-4b43-bc86-f5f0963c1f2e\">\n",
              "  <button class=\"colab-df-quickchart\" onclick=\"quickchart('df-99818ad5-b2ff-4b43-bc86-f5f0963c1f2e')\"\n",
              "            title=\"Suggest charts.\"\n",
              "            style=\"display:none;\">\n",
              "\n",
              "<svg xmlns=\"http://www.w3.org/2000/svg\" height=\"24px\"viewBox=\"0 0 24 24\"\n",
              "     width=\"24px\">\n",
              "    <g>\n",
              "        <path d=\"M19 3H5c-1.1 0-2 .9-2 2v14c0 1.1.9 2 2 2h14c1.1 0 2-.9 2-2V5c0-1.1-.9-2-2-2zM9 17H7v-7h2v7zm4 0h-2V7h2v10zm4 0h-2v-4h2v4z\"/>\n",
              "    </g>\n",
              "</svg>\n",
              "  </button>\n",
              "\n",
              "<style>\n",
              "  .colab-df-quickchart {\n",
              "      --bg-color: #E8F0FE;\n",
              "      --fill-color: #1967D2;\n",
              "      --hover-bg-color: #E2EBFA;\n",
              "      --hover-fill-color: #174EA6;\n",
              "      --disabled-fill-color: #AAA;\n",
              "      --disabled-bg-color: #DDD;\n",
              "  }\n",
              "\n",
              "  [theme=dark] .colab-df-quickchart {\n",
              "      --bg-color: #3B4455;\n",
              "      --fill-color: #D2E3FC;\n",
              "      --hover-bg-color: #434B5C;\n",
              "      --hover-fill-color: #FFFFFF;\n",
              "      --disabled-bg-color: #3B4455;\n",
              "      --disabled-fill-color: #666;\n",
              "  }\n",
              "\n",
              "  .colab-df-quickchart {\n",
              "    background-color: var(--bg-color);\n",
              "    border: none;\n",
              "    border-radius: 50%;\n",
              "    cursor: pointer;\n",
              "    display: none;\n",
              "    fill: var(--fill-color);\n",
              "    height: 32px;\n",
              "    padding: 0;\n",
              "    width: 32px;\n",
              "  }\n",
              "\n",
              "  .colab-df-quickchart:hover {\n",
              "    background-color: var(--hover-bg-color);\n",
              "    box-shadow: 0 1px 2px rgba(60, 64, 67, 0.3), 0 1px 3px 1px rgba(60, 64, 67, 0.15);\n",
              "    fill: var(--button-hover-fill-color);\n",
              "  }\n",
              "\n",
              "  .colab-df-quickchart-complete:disabled,\n",
              "  .colab-df-quickchart-complete:disabled:hover {\n",
              "    background-color: var(--disabled-bg-color);\n",
              "    fill: var(--disabled-fill-color);\n",
              "    box-shadow: none;\n",
              "  }\n",
              "\n",
              "  .colab-df-spinner {\n",
              "    border: 2px solid var(--fill-color);\n",
              "    border-color: transparent;\n",
              "    border-bottom-color: var(--fill-color);\n",
              "    animation:\n",
              "      spin 1s steps(1) infinite;\n",
              "  }\n",
              "\n",
              "  @keyframes spin {\n",
              "    0% {\n",
              "      border-color: transparent;\n",
              "      border-bottom-color: var(--fill-color);\n",
              "      border-left-color: var(--fill-color);\n",
              "    }\n",
              "    20% {\n",
              "      border-color: transparent;\n",
              "      border-left-color: var(--fill-color);\n",
              "      border-top-color: var(--fill-color);\n",
              "    }\n",
              "    30% {\n",
              "      border-color: transparent;\n",
              "      border-left-color: var(--fill-color);\n",
              "      border-top-color: var(--fill-color);\n",
              "      border-right-color: var(--fill-color);\n",
              "    }\n",
              "    40% {\n",
              "      border-color: transparent;\n",
              "      border-right-color: var(--fill-color);\n",
              "      border-top-color: var(--fill-color);\n",
              "    }\n",
              "    60% {\n",
              "      border-color: transparent;\n",
              "      border-right-color: var(--fill-color);\n",
              "    }\n",
              "    80% {\n",
              "      border-color: transparent;\n",
              "      border-right-color: var(--fill-color);\n",
              "      border-bottom-color: var(--fill-color);\n",
              "    }\n",
              "    90% {\n",
              "      border-color: transparent;\n",
              "      border-bottom-color: var(--fill-color);\n",
              "    }\n",
              "  }\n",
              "</style>\n",
              "\n",
              "  <script>\n",
              "    async function quickchart(key) {\n",
              "      const quickchartButtonEl =\n",
              "        document.querySelector('#' + key + ' button');\n",
              "      quickchartButtonEl.disabled = true;  // To prevent multiple clicks.\n",
              "      quickchartButtonEl.classList.add('colab-df-spinner');\n",
              "      try {\n",
              "        const charts = await google.colab.kernel.invokeFunction(\n",
              "            'suggestCharts', [key], {});\n",
              "      } catch (error) {\n",
              "        console.error('Error during call to suggestCharts:', error);\n",
              "      }\n",
              "      quickchartButtonEl.classList.remove('colab-df-spinner');\n",
              "      quickchartButtonEl.classList.add('colab-df-quickchart-complete');\n",
              "    }\n",
              "    (() => {\n",
              "      let quickchartButtonEl =\n",
              "        document.querySelector('#df-99818ad5-b2ff-4b43-bc86-f5f0963c1f2e button');\n",
              "      quickchartButtonEl.style.display =\n",
              "        google.colab.kernel.accessAllowed ? 'block' : 'none';\n",
              "    })();\n",
              "  </script>\n",
              "</div>\n",
              "    </div>\n",
              "  </div>\n"
            ]
          },
          "metadata": {},
          "execution_count": 76
        }
      ]
    },
    {
      "cell_type": "code",
      "source": [
        "#data['Village'].value_counts()"
      ],
      "metadata": {
        "id": "BED5vl1t8pX1"
      },
      "execution_count": null,
      "outputs": []
    },
    {
      "cell_type": "code",
      "source": [
        "#data2 = data.loc[data['Village']==\"Mahim\"]\n",
        "data2 = data"
      ],
      "metadata": {
        "id": "uuapqIie9Q_v"
      },
      "execution_count": null,
      "outputs": []
    },
    {
      "cell_type": "code",
      "source": [
        "data2"
      ],
      "metadata": {
        "colab": {
          "base_uri": "https://localhost:8080/",
          "height": 424
        },
        "id": "4-UJ_XZ2_HUM",
        "outputId": "474ecee5-9e31-459c-8efd-a0df15ccfec3"
      },
      "execution_count": null,
      "outputs": [
        {
          "output_type": "execute_result",
          "data": {
            "text/plain": [
              "      final_cts              cts\n",
              "0           NaN              NaN\n",
              "1           NaN              NaN\n",
              "2           NaN              NaN\n",
              "3           NaN              NaN\n",
              "4         1971   1971 मध्दे आहे.\n",
              "...         ...              ...\n",
              "37970      1902             1902\n",
              "37971       137              137\n",
              "37972       000              000\n",
              "37973      1910             1910\n",
              "37974      1960             1960\n",
              "\n",
              "[37975 rows x 2 columns]"
            ],
            "text/html": [
              "\n",
              "  <div id=\"df-5f2b0297-db3b-406d-acaf-55a562453d15\" class=\"colab-df-container\">\n",
              "    <div>\n",
              "<style scoped>\n",
              "    .dataframe tbody tr th:only-of-type {\n",
              "        vertical-align: middle;\n",
              "    }\n",
              "\n",
              "    .dataframe tbody tr th {\n",
              "        vertical-align: top;\n",
              "    }\n",
              "\n",
              "    .dataframe thead th {\n",
              "        text-align: right;\n",
              "    }\n",
              "</style>\n",
              "<table border=\"1\" class=\"dataframe\">\n",
              "  <thead>\n",
              "    <tr style=\"text-align: right;\">\n",
              "      <th></th>\n",
              "      <th>final_cts</th>\n",
              "      <th>cts</th>\n",
              "    </tr>\n",
              "  </thead>\n",
              "  <tbody>\n",
              "    <tr>\n",
              "      <th>0</th>\n",
              "      <td>NaN</td>\n",
              "      <td>NaN</td>\n",
              "    </tr>\n",
              "    <tr>\n",
              "      <th>1</th>\n",
              "      <td>NaN</td>\n",
              "      <td>NaN</td>\n",
              "    </tr>\n",
              "    <tr>\n",
              "      <th>2</th>\n",
              "      <td>NaN</td>\n",
              "      <td>NaN</td>\n",
              "    </tr>\n",
              "    <tr>\n",
              "      <th>3</th>\n",
              "      <td>NaN</td>\n",
              "      <td>NaN</td>\n",
              "    </tr>\n",
              "    <tr>\n",
              "      <th>4</th>\n",
              "      <td>1971</td>\n",
              "      <td>1971 मध्दे आहे.</td>\n",
              "    </tr>\n",
              "    <tr>\n",
              "      <th>...</th>\n",
              "      <td>...</td>\n",
              "      <td>...</td>\n",
              "    </tr>\n",
              "    <tr>\n",
              "      <th>37970</th>\n",
              "      <td>1902</td>\n",
              "      <td>1902</td>\n",
              "    </tr>\n",
              "    <tr>\n",
              "      <th>37971</th>\n",
              "      <td>137</td>\n",
              "      <td>137</td>\n",
              "    </tr>\n",
              "    <tr>\n",
              "      <th>37972</th>\n",
              "      <td>000</td>\n",
              "      <td>000</td>\n",
              "    </tr>\n",
              "    <tr>\n",
              "      <th>37973</th>\n",
              "      <td>1910</td>\n",
              "      <td>1910</td>\n",
              "    </tr>\n",
              "    <tr>\n",
              "      <th>37974</th>\n",
              "      <td>1960</td>\n",
              "      <td>1960</td>\n",
              "    </tr>\n",
              "  </tbody>\n",
              "</table>\n",
              "<p>37975 rows × 2 columns</p>\n",
              "</div>\n",
              "    <div class=\"colab-df-buttons\">\n",
              "\n",
              "  <div class=\"colab-df-container\">\n",
              "    <button class=\"colab-df-convert\" onclick=\"convertToInteractive('df-5f2b0297-db3b-406d-acaf-55a562453d15')\"\n",
              "            title=\"Convert this dataframe to an interactive table.\"\n",
              "            style=\"display:none;\">\n",
              "\n",
              "  <svg xmlns=\"http://www.w3.org/2000/svg\" height=\"24px\" viewBox=\"0 -960 960 960\">\n",
              "    <path d=\"M120-120v-720h720v720H120Zm60-500h600v-160H180v160Zm220 220h160v-160H400v160Zm0 220h160v-160H400v160ZM180-400h160v-160H180v160Zm440 0h160v-160H620v160ZM180-180h160v-160H180v160Zm440 0h160v-160H620v160Z\"/>\n",
              "  </svg>\n",
              "    </button>\n",
              "\n",
              "  <style>\n",
              "    .colab-df-container {\n",
              "      display:flex;\n",
              "      gap: 12px;\n",
              "    }\n",
              "\n",
              "    .colab-df-convert {\n",
              "      background-color: #E8F0FE;\n",
              "      border: none;\n",
              "      border-radius: 50%;\n",
              "      cursor: pointer;\n",
              "      display: none;\n",
              "      fill: #1967D2;\n",
              "      height: 32px;\n",
              "      padding: 0 0 0 0;\n",
              "      width: 32px;\n",
              "    }\n",
              "\n",
              "    .colab-df-convert:hover {\n",
              "      background-color: #E2EBFA;\n",
              "      box-shadow: 0px 1px 2px rgba(60, 64, 67, 0.3), 0px 1px 3px 1px rgba(60, 64, 67, 0.15);\n",
              "      fill: #174EA6;\n",
              "    }\n",
              "\n",
              "    .colab-df-buttons div {\n",
              "      margin-bottom: 4px;\n",
              "    }\n",
              "\n",
              "    [theme=dark] .colab-df-convert {\n",
              "      background-color: #3B4455;\n",
              "      fill: #D2E3FC;\n",
              "    }\n",
              "\n",
              "    [theme=dark] .colab-df-convert:hover {\n",
              "      background-color: #434B5C;\n",
              "      box-shadow: 0px 1px 3px 1px rgba(0, 0, 0, 0.15);\n",
              "      filter: drop-shadow(0px 1px 2px rgba(0, 0, 0, 0.3));\n",
              "      fill: #FFFFFF;\n",
              "    }\n",
              "  </style>\n",
              "\n",
              "    <script>\n",
              "      const buttonEl =\n",
              "        document.querySelector('#df-5f2b0297-db3b-406d-acaf-55a562453d15 button.colab-df-convert');\n",
              "      buttonEl.style.display =\n",
              "        google.colab.kernel.accessAllowed ? 'block' : 'none';\n",
              "\n",
              "      async function convertToInteractive(key) {\n",
              "        const element = document.querySelector('#df-5f2b0297-db3b-406d-acaf-55a562453d15');\n",
              "        const dataTable =\n",
              "          await google.colab.kernel.invokeFunction('convertToInteractive',\n",
              "                                                    [key], {});\n",
              "        if (!dataTable) return;\n",
              "\n",
              "        const docLinkHtml = 'Like what you see? Visit the ' +\n",
              "          '<a target=\"_blank\" href=https://colab.research.google.com/notebooks/data_table.ipynb>data table notebook</a>'\n",
              "          + ' to learn more about interactive tables.';\n",
              "        element.innerHTML = '';\n",
              "        dataTable['output_type'] = 'display_data';\n",
              "        await google.colab.output.renderOutput(dataTable, element);\n",
              "        const docLink = document.createElement('div');\n",
              "        docLink.innerHTML = docLinkHtml;\n",
              "        element.appendChild(docLink);\n",
              "      }\n",
              "    </script>\n",
              "  </div>\n",
              "\n",
              "\n",
              "<div id=\"df-b2897fe1-62c1-42f3-a741-8a1687a46f80\">\n",
              "  <button class=\"colab-df-quickchart\" onclick=\"quickchart('df-b2897fe1-62c1-42f3-a741-8a1687a46f80')\"\n",
              "            title=\"Suggest charts.\"\n",
              "            style=\"display:none;\">\n",
              "\n",
              "<svg xmlns=\"http://www.w3.org/2000/svg\" height=\"24px\"viewBox=\"0 0 24 24\"\n",
              "     width=\"24px\">\n",
              "    <g>\n",
              "        <path d=\"M19 3H5c-1.1 0-2 .9-2 2v14c0 1.1.9 2 2 2h14c1.1 0 2-.9 2-2V5c0-1.1-.9-2-2-2zM9 17H7v-7h2v7zm4 0h-2V7h2v10zm4 0h-2v-4h2v4z\"/>\n",
              "    </g>\n",
              "</svg>\n",
              "  </button>\n",
              "\n",
              "<style>\n",
              "  .colab-df-quickchart {\n",
              "      --bg-color: #E8F0FE;\n",
              "      --fill-color: #1967D2;\n",
              "      --hover-bg-color: #E2EBFA;\n",
              "      --hover-fill-color: #174EA6;\n",
              "      --disabled-fill-color: #AAA;\n",
              "      --disabled-bg-color: #DDD;\n",
              "  }\n",
              "\n",
              "  [theme=dark] .colab-df-quickchart {\n",
              "      --bg-color: #3B4455;\n",
              "      --fill-color: #D2E3FC;\n",
              "      --hover-bg-color: #434B5C;\n",
              "      --hover-fill-color: #FFFFFF;\n",
              "      --disabled-bg-color: #3B4455;\n",
              "      --disabled-fill-color: #666;\n",
              "  }\n",
              "\n",
              "  .colab-df-quickchart {\n",
              "    background-color: var(--bg-color);\n",
              "    border: none;\n",
              "    border-radius: 50%;\n",
              "    cursor: pointer;\n",
              "    display: none;\n",
              "    fill: var(--fill-color);\n",
              "    height: 32px;\n",
              "    padding: 0;\n",
              "    width: 32px;\n",
              "  }\n",
              "\n",
              "  .colab-df-quickchart:hover {\n",
              "    background-color: var(--hover-bg-color);\n",
              "    box-shadow: 0 1px 2px rgba(60, 64, 67, 0.3), 0 1px 3px 1px rgba(60, 64, 67, 0.15);\n",
              "    fill: var(--button-hover-fill-color);\n",
              "  }\n",
              "\n",
              "  .colab-df-quickchart-complete:disabled,\n",
              "  .colab-df-quickchart-complete:disabled:hover {\n",
              "    background-color: var(--disabled-bg-color);\n",
              "    fill: var(--disabled-fill-color);\n",
              "    box-shadow: none;\n",
              "  }\n",
              "\n",
              "  .colab-df-spinner {\n",
              "    border: 2px solid var(--fill-color);\n",
              "    border-color: transparent;\n",
              "    border-bottom-color: var(--fill-color);\n",
              "    animation:\n",
              "      spin 1s steps(1) infinite;\n",
              "  }\n",
              "\n",
              "  @keyframes spin {\n",
              "    0% {\n",
              "      border-color: transparent;\n",
              "      border-bottom-color: var(--fill-color);\n",
              "      border-left-color: var(--fill-color);\n",
              "    }\n",
              "    20% {\n",
              "      border-color: transparent;\n",
              "      border-left-color: var(--fill-color);\n",
              "      border-top-color: var(--fill-color);\n",
              "    }\n",
              "    30% {\n",
              "      border-color: transparent;\n",
              "      border-left-color: var(--fill-color);\n",
              "      border-top-color: var(--fill-color);\n",
              "      border-right-color: var(--fill-color);\n",
              "    }\n",
              "    40% {\n",
              "      border-color: transparent;\n",
              "      border-right-color: var(--fill-color);\n",
              "      border-top-color: var(--fill-color);\n",
              "    }\n",
              "    60% {\n",
              "      border-color: transparent;\n",
              "      border-right-color: var(--fill-color);\n",
              "    }\n",
              "    80% {\n",
              "      border-color: transparent;\n",
              "      border-right-color: var(--fill-color);\n",
              "      border-bottom-color: var(--fill-color);\n",
              "    }\n",
              "    90% {\n",
              "      border-color: transparent;\n",
              "      border-bottom-color: var(--fill-color);\n",
              "    }\n",
              "  }\n",
              "</style>\n",
              "\n",
              "  <script>\n",
              "    async function quickchart(key) {\n",
              "      const quickchartButtonEl =\n",
              "        document.querySelector('#' + key + ' button');\n",
              "      quickchartButtonEl.disabled = true;  // To prevent multiple clicks.\n",
              "      quickchartButtonEl.classList.add('colab-df-spinner');\n",
              "      try {\n",
              "        const charts = await google.colab.kernel.invokeFunction(\n",
              "            'suggestCharts', [key], {});\n",
              "      } catch (error) {\n",
              "        console.error('Error during call to suggestCharts:', error);\n",
              "      }\n",
              "      quickchartButtonEl.classList.remove('colab-df-spinner');\n",
              "      quickchartButtonEl.classList.add('colab-df-quickchart-complete');\n",
              "    }\n",
              "    (() => {\n",
              "      let quickchartButtonEl =\n",
              "        document.querySelector('#df-b2897fe1-62c1-42f3-a741-8a1687a46f80 button');\n",
              "      quickchartButtonEl.style.display =\n",
              "        google.colab.kernel.accessAllowed ? 'block' : 'none';\n",
              "    })();\n",
              "  </script>\n",
              "</div>\n",
              "    </div>\n",
              "  </div>\n"
            ]
          },
          "metadata": {},
          "execution_count": 79
        }
      ]
    },
    {
      "cell_type": "code",
      "source": [
        "#data2 = data[\"cts\"]\n",
        "data3 = data2[\"final_cts\"]\n",
        "data3 = pd.DataFrame(data3)\n",
        "data3[\"final_cts\"] = data3[\"final_cts\"].astype(str)"
      ],
      "metadata": {
        "id": "C_Jp9vmD_b0X"
      },
      "execution_count": null,
      "outputs": []
    },
    {
      "cell_type": "code",
      "source": [
        "#from google.colab import files\n",
        "# Export the DataFrame to Excel\n",
        "#with open('mahim.xlsx', 'wb') as f:\n",
        "    #data3.to_excel(f, index=False)\n",
        "\n",
        "# Download the Excel file\n",
        "#files.download('mahim.xlsx')"
      ],
      "metadata": {
        "id": "wj9BueUTr0BE"
      },
      "execution_count": null,
      "outputs": []
    },
    {
      "cell_type": "code",
      "source": [
        "regex1 = r'सी\\s+टी\\s+एस\\s+नं\\s+' # सी टी एस नं\n",
        "regex2 = r'सी\\s+टी\\s+स\\s+नं\\s+'  # सी टी स नं\n",
        "regex3 = r'सि\\s+टी\\s+स\\s+नं\\s+'  # सि टी स नं\n",
        "regex4 = r'सि\\s+टी\\s+एस\\s+नं\\s+' # सि टी एस नं\n",
        "regex5 = r'सि\\s+एस\\s+नं\\s+'     #  सि एस नं\n",
        "regex6 = r'सिएस\\s+नं\\s+'        # सिएस नं\n",
        "regex7 = r'सिटीएस\\s+नं\\s+'       # सिटीएस नं\n",
        "regex8 = r'सिटीएस\\s+नंबर\\s+'     # सि.टी.एस. नंबर\n",
        "regex9 = r'CTS\\s+Number\\s+'    # CTS Number\n",
        "regex10 = r'C.T.S. Number : (.*?);' # C.T.S. Number\n",
        "\n",
        "num_cells1 = data3[\"final_cts\"].str.count(regex1)\n",
        "num_cells2 = data3[\"final_cts\"].str.count(regex2)\n",
        "num_cells3 = data3[\"final_cts\"].str.count(regex3)\n",
        "num_cells4 = data3[\"final_cts\"].str.count(regex4)\n",
        "num_cells5 = data3[\"final_cts\"].str.count(regex5)\n",
        "num_cells6 = data3[\"final_cts\"].str.count(regex6)\n",
        "num_cells7 = data3[\"final_cts\"].str.count(regex7)\n",
        "num_cells8 = data3[\"final_cts\"].str.count(regex8)\n",
        "num_cells9 = data3[\"final_cts\"].str.count(regex9)\n",
        "num_cells10 = data3[\"final_cts\"].str.count(regex10)\n",
        "\n",
        "print(num_cells1.sum())\n",
        "print(num_cells2.sum())\n",
        "print(num_cells3.sum())\n",
        "print(num_cells4.sum())\n",
        "print(num_cells5.sum())\n",
        "print(num_cells6.sum())\n",
        "print(num_cells7.sum())\n",
        "print(num_cells8.sum())\n",
        "print(num_cells9.sum())\n",
        "print(num_cells10.sum())"
      ],
      "metadata": {
        "id": "FC_chvb-qNmN",
        "colab": {
          "base_uri": "https://localhost:8080/"
        },
        "outputId": "a0855228-3b3b-411c-b82c-9c2a0255fe0d"
      },
      "execution_count": null,
      "outputs": [
        {
          "output_type": "stream",
          "name": "stdout",
          "text": [
            "5\n",
            "0\n",
            "0\n",
            "0\n",
            "1\n",
            "0\n",
            "0\n",
            "0\n",
            "0\n",
            "0\n"
          ]
        }
      ]
    },
    {
      "cell_type": "markdown",
      "source": [
        "Types of CTS number\n",
        "\n",
        "सि टी स नं 2147 **\n",
        "\n",
        "सि टी एस नं 17 अे 1504/2345 *\n",
        "\n",
        "सि ब्ी एस नं 4/460 **\n",
        "\n",
        "सि टी स नं 2/229 **\n",
        "\n",
        "सि टी एचस नं 2/404  आणि 404 *\n",
        "\n",
        "सि टी एस वनं 760 **\n",
        "\n",
        "सि एस नं 1800/233 **\n",
        "\n",
        "सी एस नं 1581/233 **\n",
        "\n",
        "किस एस नं 2011/5783 **\n",
        "\n",
        "सि एस नं 522/523/524 **\n",
        "\n",
        "सि डएस नं 2224 **\n",
        "\n",
        "सि एस 16 **\n",
        "\n",
        "सि टी एस नं 2147 *"
      ],
      "metadata": {
        "id": "-_3xHaT2oUAF"
      }
    },
    {
      "cell_type": "code",
      "source": [
        "# trial-14 cts extraction:\n",
        "\n",
        "import re\n",
        "\n",
        "def extract_cts_code14(text):\n",
        "\n",
        "  CTS_CODE_REGEX = r'C.T.S. Number : (.*?)(\\d+)((\\/)?\\w+)?((\\/)?\\w+)'\n",
        "  match = re.search(CTS_CODE_REGEX, text)\n",
        "  if match:\n",
        "    return match.group()\n",
        "  else:\n",
        "    return text\n",
        "\n",
        "# Example usage:\n",
        "#Corporation: Mumbai , Other details: Apartment/Flat No:602, Floor No:6TH FLOOR, C WING, Building Name:DEEPANKAR CHS, Block Sector:PRABHADEVI - 400025, Road:S L MATKAR MARG, City:Mahim, District:Mumbai,     C.T.S. Number : 295,  Leave and License Months:11\n",
        "text = \"(Corporation: Mumbai , Other details: Apartment/Flat No:602, Floor No:6TH FLOOR, C WING, Building Name:DEEPANKAR CHS, Block Sector:PRABHADEVI - 400025, Road:S L MATKAR MARG, City:Mahim, District:Mumbai,     C.T.S. Number : 295/423/353,  Leave and License Months:11)\"\n",
        "\n",
        "# Extract the CTS code\n",
        "cts_code = extract_cts_code14(text)\n",
        "\n",
        "# Print the CTS code to the console\n",
        "print(cts_code)"
      ],
      "metadata": {
        "id": "-b9xPYVB2a_8",
        "colab": {
          "base_uri": "https://localhost:8080/"
        },
        "outputId": "2ed778e3-88a3-4a09-c122-aeae7683c904"
      },
      "execution_count": null,
      "outputs": [
        {
          "output_type": "stream",
          "name": "stdout",
          "text": [
            "C.T.S. Number : 295/423/353\n"
          ]
        }
      ]
    },
    {
      "cell_type": "code",
      "source": [
        "# trial-13 cts extraction:\n",
        "\n",
        "def extract_cts_code13(text):\n",
        "\n",
        "  cts_code_regex = r'सी\\s+टी\\s+एस\\s+नं\\s+(\\d+)/?\\w?\\d+'\n",
        "  match = re.search(cts_code_regex, text)\n",
        "  if match:\n",
        "    return match.group()\n",
        "  else:\n",
        "    return text\n",
        "\n",
        "\n",
        "# Example usage:\n",
        "\n",
        "text = \"(पालिकेचे नाव:इतर वर्णन :सी टी एस नं 2/229 भायखळा)\"\n",
        "cts_code = extract_cts_code13(text)\n",
        "\n",
        "print(cts_code)"
      ],
      "metadata": {
        "id": "tp0oTLGZiP45",
        "colab": {
          "base_uri": "https://localhost:8080/"
        },
        "outputId": "b870537c-8d69-4771-99e0-16176ab2e0d6"
      },
      "execution_count": null,
      "outputs": [
        {
          "output_type": "stream",
          "name": "stdout",
          "text": [
            "सी टी एस नं 2/229\n"
          ]
        }
      ]
    },
    {
      "cell_type": "code",
      "source": [
        "# trial-12 cts extraction:\n",
        "\n",
        "import re\n",
        "\n",
        "def extract_cts_code12(text):\n",
        "  \"\"\"Extracts the CTS code from a given text.\n",
        "\n",
        "  Args:\n",
        "    text: The text to extract the CTS code from.\n",
        "\n",
        "  Returns:\n",
        "    The CTS code, or None if no CTS code is found.\n",
        "  \"\"\"\n",
        "\n",
        "  CTS_CODE_REGEX = r'सि\\s+एस\\s+(\\d+)((\\/)?\\w+)?((\\/)?\\w+)'\n",
        "  match = re.search(CTS_CODE_REGEX, text)\n",
        "  if match:\n",
        "    return match.group()\n",
        "  else:\n",
        "    return text\n",
        "\n",
        "\n",
        "# Example usage:\n",
        "\n",
        "text = \"(पालिकेचे नाव:इतर वर्णन :सि एस 16/7415/5353 भायखळा)\"\n",
        "cts_code = extract_cts_code12(text)\n",
        "\n",
        "print(cts_code)\n"
      ],
      "metadata": {
        "id": "jr9VretL_aDx",
        "colab": {
          "base_uri": "https://localhost:8080/"
        },
        "outputId": "c46e5840-7a72-48a4-97e6-61ae8178174f"
      },
      "execution_count": null,
      "outputs": [
        {
          "output_type": "stream",
          "name": "stdout",
          "text": [
            "सि एस 16/7415/5353\n"
          ]
        }
      ]
    },
    {
      "cell_type": "code",
      "source": [
        "# trial-11 cts extraction:\n",
        "\n",
        "import re\n",
        "\n",
        "def extract_cts_code11(text):\n",
        "  \"\"\"Extracts the CTS code from a given text.\n",
        "\n",
        "  Args:\n",
        "    text: The text to extract the CTS code from.\n",
        "\n",
        "  Returns:\n",
        "    The CTS code, or None if no CTS code is found.\n",
        "  \"\"\"\n",
        "\n",
        "  CTS_CODE_REGEX = r'सि\\s+डएस\\s+नं\\s+(\\d+)((\\/)?\\w+)?((\\/)?\\w+)'\n",
        "  match = re.search(CTS_CODE_REGEX, text)\n",
        "  if match:\n",
        "    return match.group()\n",
        "  else:\n",
        "    return text\n",
        "\n",
        "\n",
        "# Example usage:\n",
        "\n",
        "text = \"(पालिकेचे नाव:इतर वर्णन :सि डएस नं 2224/7415/5353 भायखळा)\"\n",
        "cts_code = extract_cts_code11(text)\n",
        "\n",
        "print(cts_code)\n"
      ],
      "metadata": {
        "id": "vhzdTi1F-VoK",
        "colab": {
          "base_uri": "https://localhost:8080/"
        },
        "outputId": "4c9ac7e1-5c4b-4f51-cb21-4ae0885a2015"
      },
      "execution_count": null,
      "outputs": [
        {
          "output_type": "stream",
          "name": "stdout",
          "text": [
            "सि डएस नं 2224/7415/5353\n"
          ]
        }
      ]
    },
    {
      "cell_type": "code",
      "source": [
        "# trial-10 cts extraction:\n",
        "\n",
        "import re\n",
        "\n",
        "def extract_cts_code10(text):\n",
        "  \"\"\"Extracts the CTS code from a given text.\n",
        "\n",
        "  Args:\n",
        "    text: The text to extract the CTS code from.\n",
        "\n",
        "  Returns:\n",
        "    The CTS code, or None if no CTS code is found.\n",
        "  \"\"\"\n",
        "\n",
        "  CTS_CODE_REGEX = r'सि\\s+एस\\s+नं\\s+(\\d+)((\\/)?\\w+)?((\\/)?\\w+)'\n",
        "  match = re.search(CTS_CODE_REGEX, text)\n",
        "  if match:\n",
        "    return match.group()\n",
        "  else:\n",
        "    return text\n",
        "\n",
        "\n",
        "# Example usage:\n",
        "\n",
        "text = \"(पालिकेचे नाव:इतर वर्णन :सि एस नं 522/523/524 भायखळा)\"\n",
        "cts_code = extract_cts_code10(text)\n",
        "\n",
        "print(cts_code)\n"
      ],
      "metadata": {
        "id": "RyNWN69O96CC",
        "colab": {
          "base_uri": "https://localhost:8080/"
        },
        "outputId": "2c9294ce-2760-4534-b2f8-2ae4c93e8620"
      },
      "execution_count": null,
      "outputs": [
        {
          "output_type": "stream",
          "name": "stdout",
          "text": [
            "सि एस नं 522/523/524\n"
          ]
        }
      ]
    },
    {
      "cell_type": "code",
      "source": [
        "# trial-9 cts extraction:\n",
        "\n",
        "import re\n",
        "\n",
        "def extract_cts_code9(text):\n",
        "  \"\"\"Extracts the CTS code from a given text.\n",
        "\n",
        "  Args:\n",
        "    text: The text to extract the CTS code from.\n",
        "\n",
        "  Returns:\n",
        "    The CTS code, or None if no CTS code is found.\n",
        "  \"\"\"\n",
        "\n",
        "  CTS_CODE_REGEX = r'किस\\s+एस\\s+नं\\s+(\\d+)((\\/)?\\w+)?'\n",
        "  match = re.search(CTS_CODE_REGEX, text)\n",
        "  if match:\n",
        "    return match.group()\n",
        "  else:\n",
        "    return text\n",
        "\n",
        "\n",
        "# Example usage:\n",
        "\n",
        "text = \"(पालिकेचे नाव:इतर वर्णन :किस एस नं 2011/5783 भायखळा)\"\n",
        "cts_code = extract_cts_code9(text)\n",
        "\n",
        "print(cts_code)\n"
      ],
      "metadata": {
        "id": "MssPe9IX8p7J",
        "colab": {
          "base_uri": "https://localhost:8080/"
        },
        "outputId": "fd2a11d8-1549-4d59-d3a9-7340c7b9bdbe"
      },
      "execution_count": null,
      "outputs": [
        {
          "output_type": "stream",
          "name": "stdout",
          "text": [
            "किस एस नं 2011/5783\n"
          ]
        }
      ]
    },
    {
      "cell_type": "code",
      "source": [
        "# trial-8 cts extraction:\n",
        "\n",
        "import re\n",
        "\n",
        "def extract_cts_code8(text):\n",
        "  \"\"\"Extracts the CTS code from a given text.\n",
        "\n",
        "  Args:\n",
        "    text: The text to extract the CTS code from.\n",
        "\n",
        "  Returns:\n",
        "    The CTS code, or None if no CTS code is found.\n",
        "  \"\"\"\n",
        "\n",
        "  CTS_CODE_REGEX = r'सि\\s+टी\\s+एस\\s+वनं\\s+(\\d+)((\\/)?\\w+)?'\n",
        "  match = re.search(CTS_CODE_REGEX, text)\n",
        "  if match:\n",
        "    return match.group()\n",
        "  else:\n",
        "    return text\n",
        "\n",
        "\n",
        "# Example usage:\n",
        "\n",
        "text = \"(पालिकेचे नाव:इतर वर्णन :सि टी एस वनं 760 भायखळा)\"\n",
        "cts_code = extract_cts_code8(text)\n",
        "\n",
        "print(cts_code)\n"
      ],
      "metadata": {
        "id": "5vCz2Ttt8OCK",
        "colab": {
          "base_uri": "https://localhost:8080/"
        },
        "outputId": "deb17868-b560-4544-c71a-84ab555a5578"
      },
      "execution_count": null,
      "outputs": [
        {
          "output_type": "stream",
          "name": "stdout",
          "text": [
            "सि टी एस वनं 760\n"
          ]
        }
      ]
    },
    {
      "cell_type": "code",
      "source": [
        "# trial-7 cts extraction:  in process\n",
        "\n",
        "import re\n",
        "\n",
        "def extract_cts_code(text):\n",
        "  \"\"\"Extracts the CTS code from a given text.\n",
        "\n",
        "  Args:\n",
        "    text: The text to extract the CTS code from.\n",
        "\n",
        "  Returns:\n",
        "    The CTS code, or None if no CTS code is found.\n",
        "  \"\"\"\n",
        "\n",
        "  CTS_CODE_REGEX = r'(सि\\s+टी\\s+एचस\\s+नं\\s+(\\d+)((\\/)?\\w+))(\\s+\\w+)*?\\s+((\\w+))'\n",
        "  #CTS_CODE_REGEX = r'(सि\\s+टी\\s+एचस\\s+नं\\s+(\\d+)((\\/)?\\w+))(\\w+)\\s+((\\w+))'\n",
        "\n",
        "  match = re.search(CTS_CODE_REGEX, text)\n",
        "  if match:\n",
        "    return match.group(0)\n",
        "  else:\n",
        "    return text\n",
        "\n",
        "\n",
        "# Example usage:\n",
        "\n",
        "text = \"(पालिकेचे नाव:इतर वर्णन :सि टी एचस नं 2/404 आणि 404 भायखळा)\"\n",
        "cts_code = extract_cts_code(text)\n",
        "\n",
        "print(cts_code)"
      ],
      "metadata": {
        "id": "qI25kHn4lsZu",
        "colab": {
          "base_uri": "https://localhost:8080/"
        },
        "outputId": "0b9f0a45-b4a2-4aa9-ec41-7d2ce1aa0777"
      },
      "execution_count": null,
      "outputs": [
        {
          "output_type": "stream",
          "name": "stdout",
          "text": [
            "सि टी एचस नं 2/404 आण\n"
          ]
        }
      ]
    },
    {
      "cell_type": "code",
      "source": [
        "# trial-6 cts extraction:\n",
        "\n",
        "def extract_cts_code6(text):\n",
        "  \"\"\"Extracts the CTS code from a given text.\n",
        "\n",
        "  Args:\n",
        "    text: The text to extract the CTS code from.\n",
        "\n",
        "  Returns:\n",
        "    The CTS code, or None if no CTS code is found.\n",
        "  \"\"\"\n",
        "\n",
        "  CTS_CODE_REGEX = r'सि\\s+टी\\s+स\\s+नं\\s+(\\d+)((\\/)?\\w+)?'\n",
        "  match = re.search(CTS_CODE_REGEX, text)\n",
        "  if match:\n",
        "    return match.group()\n",
        "  else:\n",
        "    return text\n",
        "\n",
        "\n",
        "# Example usage:\n",
        "\n",
        "text = \"(पालिकेचे नाव:इतर वर्णन :सि टी स नं 2/229 भायखळा)\"\n",
        "cts_code = extract_cts_code6(text)\n",
        "\n",
        "print(cts_code)"
      ],
      "metadata": {
        "id": "NGzJ30xF3FoB",
        "colab": {
          "base_uri": "https://localhost:8080/"
        },
        "outputId": "c00f20f4-8713-4115-e1de-34027cb0e9d4"
      },
      "execution_count": null,
      "outputs": [
        {
          "output_type": "stream",
          "name": "stdout",
          "text": [
            "सि टी स नं 2/229\n"
          ]
        }
      ]
    },
    {
      "cell_type": "code",
      "source": [
        "# trial-5 cts extraction:\n",
        "\n",
        "def extract_cts_code5(text):\n",
        "  \"\"\"Extracts the CTS code from a given text.\n",
        "\n",
        "  Args:\n",
        "    text: The text to extract the CTS code from.\n",
        "\n",
        "  Returns:\n",
        "    The CTS code, or None if no CTS code is found.\n",
        "  \"\"\"\n",
        "\n",
        "  cts_code_regex = r'सि\\s+ब्ी\\s+एस\\s+नं\\s+(\\d+)((\\/)?\\w+)?'\n",
        "  match = re.search(cts_code_regex, text)\n",
        "  if match:\n",
        "    return match.group()\n",
        "  else:\n",
        "    return text\n",
        "\n",
        "\n",
        "# Example usage:\n",
        "\n",
        "text = \"(पालिकेचे नाव:इतर वर्णन :सि ब्ी एस नं 4/460)\"\n",
        "cts_code = extract_cts_code5(text)\n",
        "\n",
        "print(cts_code)"
      ],
      "metadata": {
        "id": "7TmFlO362RwB",
        "colab": {
          "base_uri": "https://localhost:8080/"
        },
        "outputId": "b60ee447-be6d-484a-ce9e-c96f8bcec4e6"
      },
      "execution_count": null,
      "outputs": [
        {
          "output_type": "stream",
          "name": "stdout",
          "text": [
            "सि ब्ी एस नं 4/460\n"
          ]
        }
      ]
    },
    {
      "cell_type": "code",
      "source": [
        "# trial-4 cts extraction:  in process\n",
        "\n",
        "def extract_cts_code(text):\n",
        "  \"\"\"Extracts the CTS code from a given text.\n",
        "\n",
        "  Args:\n",
        "    text: The text to extract the CTS code from.\n",
        "\n",
        "  Returns:\n",
        "    The CTS code, or None if no CTS code is found.\n",
        "  \"\"\"\n",
        "\n",
        "  cts_code_regex = r'(\\W|^)(सि\\s+टी\\s+एस\\s+नं\\s+(\\d+)((\\/)?\\w+)?)(?=\\W|$)'\n",
        "  match = re.search(cts_code_regex, text)\n",
        "  if match:\n",
        "    return match.group()\n",
        "  else:\n",
        "    return text\n",
        "\n",
        "\n",
        "# Example usage:\n",
        "\n",
        "text = \"(पालिकेचे नाव:इतर वर्णन :सि टी एस नं 17 अे 1504/2345 भायखळा)\"\n",
        "cts_code = extract_cts_code(text)\n",
        "\n",
        "print(cts_code)"
      ],
      "metadata": {
        "id": "AgqeoFnLvXlH",
        "colab": {
          "base_uri": "https://localhost:8080/"
        },
        "outputId": "715adc1f-efcb-4a40-e223-a03925e4f7c0"
      },
      "execution_count": null,
      "outputs": [
        {
          "output_type": "stream",
          "name": "stdout",
          "text": [
            ":सि टी एस नं 17\n"
          ]
        }
      ]
    },
    {
      "cell_type": "code",
      "source": [
        "# trial-3 cts extraction:\n",
        "\n",
        "def extract_cts_code3(text):\n",
        "\n",
        "  cts_code_regex = r'सी\\s+टी\\s+स\\s+नं\\s+(\\d+)/?\\w?\\d+'\n",
        "  match = re.search(cts_code_regex, text)\n",
        "  if match:\n",
        "    return match.group()\n",
        "  else:\n",
        "    return text\n",
        "\n",
        "\n",
        "# Example usage:\n",
        "\n",
        "text = \"(पालिकेचे नाव:इतर वर्णन :सी टी स नं 2/229 भायखळा)\"\n",
        "cts_code = extract_cts_code3(text)\n",
        "\n",
        "print(cts_code)"
      ],
      "metadata": {
        "id": "Zjum5ltjtjee",
        "colab": {
          "base_uri": "https://localhost:8080/"
        },
        "outputId": "0f8ece4b-8c28-4eca-9204-58e1d80c541d"
      },
      "execution_count": null,
      "outputs": [
        {
          "output_type": "stream",
          "name": "stdout",
          "text": [
            "सी टी स नं 2/229\n"
          ]
        }
      ]
    },
    {
      "cell_type": "code",
      "source": [
        "# trial-2 cts extraction:\n",
        "\n",
        "def extract_cts_code2(text):\n",
        "  \"\"\"Extracts the CTS code from a given text, including the wordings \"सि एस नं\".\n",
        "\n",
        "  Args:\n",
        "    text: The text to extract the CTS code from.\n",
        "\n",
        "  Returns:\n",
        "    The CTS code, or None if no CTS code is found.\n",
        "  \"\"\"\n",
        "\n",
        "  cts_code_regex = r'सी\\s+एस\\s+नं\\s+(\\d+)/?\\w?'\n",
        "  match = re.search(cts_code_regex, text)\n",
        "  if match:\n",
        "    return match.group()\n",
        "  else:\n",
        "    return text\n",
        "\n",
        "\n",
        "# Example usage:\n",
        "\n",
        "text = \"(पालिकेचे नाव:इतर वर्णन :सी एस नं 1581/233     बिल्ट अप - 84.20 चौ मी)\"\n",
        "cts_code = extract_cts_code2(text)\n",
        "\n",
        "print(cts_code)"
      ],
      "metadata": {
        "id": "fXCzZpaYlWCF",
        "colab": {
          "base_uri": "https://localhost:8080/"
        },
        "outputId": "88f93395-86b9-466c-e6fe-b5de703c8ab7"
      },
      "execution_count": null,
      "outputs": [
        {
          "output_type": "stream",
          "name": "stdout",
          "text": [
            "सी एस नं 1581/2\n"
          ]
        }
      ]
    },
    {
      "cell_type": "code",
      "source": [
        "# trial-1 cts extraction:\n",
        "def extract_cts_code1(text):\n",
        "  \"\"\"Extracts the CTS code from a given text, including the wordings \"सि एस नं\".\n",
        "\n",
        "  Args:\n",
        "    text: The text to extract the CTS code from.\n",
        "\n",
        "  Returns:\n",
        "    The CTS code, or None if no CTS code is found.\n",
        "  \"\"\"\n",
        "\n",
        "  cts_code_regex = r'(सि\\s+एस\\s+नं\\s+(\\d+)/?\\w?\\d+)'\n",
        "  match = re.search(cts_code_regex, text)\n",
        "  if match:\n",
        "    return match.group()\n",
        "  else:\n",
        "    return text\n",
        "\n",
        "\n",
        "# Example usage:\n",
        "\n",
        "text = \"(पालिकेचे नाव:इतर वर्णन :सि एस नं 3/493     बिल्ट अप - 84.20 चौ मी)\"\n",
        "cts_code = extract_cts_code(text)\n",
        "\n",
        "print(cts_code)"
      ],
      "metadata": {
        "id": "J7PgFd3GelQM",
        "colab": {
          "base_uri": "https://localhost:8080/"
        },
        "outputId": "d644511d-c179-4a44-c42b-0e5d5bf6e936"
      },
      "execution_count": null,
      "outputs": [
        {
          "output_type": "stream",
          "name": "stdout",
          "text": [
            "(पालिकेचे नाव:इतर वर्णन :सि एस नं 3/493     बिल्ट अप - 84.20 चौ मी)\n"
          ]
        }
      ]
    },
    {
      "cell_type": "code",
      "source": [
        "# trial-0 cts extraction:\n",
        "import re\n",
        "\n",
        "def extract_cts_code(text):\n",
        "  \"\"\"Extracts the CTS code from a given text.\n",
        "\n",
        "  Args:\n",
        "    text: The text to extract the CTS code from.\n",
        "\n",
        "  Returns:\n",
        "    The CTS code, or None if no CTS code is found.\n",
        "  \"\"\"\n",
        "\n",
        "  cts_code_regex = r'सि\\s+एस\\s+नं\\s+\\d+'\n",
        "  match = re.search(cts_code_regex, text)\n",
        "  if match:\n",
        "    return match.group()\n",
        "  else:\n",
        "    return text\n",
        "\n",
        "\n",
        "# Example usage:\n",
        "\n",
        "text = \"पालिकेचे नाव:इतर वर्णन :सि एस नं 758   मासिक भाडे 3900\"\n",
        "cts_code = extract_cts_code(text)\n",
        "\n",
        "print(cts_code)"
      ],
      "metadata": {
        "id": "Rioz36VpHNXh",
        "colab": {
          "base_uri": "https://localhost:8080/"
        },
        "outputId": "665e1307-5571-413c-b7a0-0793f27959bc"
      },
      "execution_count": null,
      "outputs": [
        {
          "output_type": "stream",
          "name": "stdout",
          "text": [
            "सि एस नं 758\n"
          ]
        }
      ]
    },
    {
      "cell_type": "code",
      "source": [
        "#cts_code_number = extract_cts_code_number(text)\n",
        "data3[\"final_cts\"]\n",
        "data3[\"CTS number14\"] = data3[\"final_cts\"].apply(extract_cts_code14)\n",
        "data3[\"CTS number13\"] = data3[\"final_cts\"].apply(extract_cts_code13)\n",
        "data3[\"CTS number12\"] = data3[\"final_cts\"].apply(extract_cts_code12)\n",
        "data3[\"CTS number11\"] = data3[\"final_cts\"].apply(extract_cts_code11)\n",
        "data3[\"CTS number10\"] = data3[\"final_cts\"].apply(extract_cts_code10)\n",
        "data3[\"CTS number9\"] = data3[\"final_cts\"].apply(extract_cts_code9)\n",
        "data3[\"CTS number8\"] = data3[\"final_cts\"].apply(extract_cts_code8)\n",
        "data3[\"CTS number6\"] = data3[\"final_cts\"].apply(extract_cts_code6)\n",
        "data3[\"CTS number5\"] = data3[\"final_cts\"].apply(extract_cts_code5)\n",
        "data3[\"CTS number3\"] = data3[\"final_cts\"].apply(extract_cts_code3)\n",
        "data3[\"CTS number2\"] = data3[\"final_cts\"].apply(extract_cts_code2)\n",
        "data3[\"CTS number1\"] = data3[\"final_cts\"].apply(extract_cts_code1)\n",
        "data3[\"CTS number\"] = data3[\"final_cts\"].apply(extract_cts_code)"
      ],
      "metadata": {
        "id": "QOKdTx_oNJuX"
      },
      "execution_count": null,
      "outputs": []
    },
    {
      "cell_type": "code",
      "source": [
        "data3.columns\n",
        "print(data3)"
      ],
      "metadata": {
        "id": "x2Wuush2RKYL",
        "colab": {
          "base_uri": "https://localhost:8080/"
        },
        "outputId": "b28c1f7f-2f4a-4269-c2b0-3b0d225541cb"
      },
      "execution_count": null,
      "outputs": [
        {
          "output_type": "stream",
          "name": "stdout",
          "text": [
            "      final_cts CTS number14 CTS number13 CTS number12 CTS number11  \\\n",
            "0           nan          nan          nan          nan          nan   \n",
            "1           nan          nan          nan          nan          nan   \n",
            "2           nan          nan          nan          nan          nan   \n",
            "3           nan          nan          nan          nan          nan   \n",
            "4         1971         1971         1971         1971         1971    \n",
            "...         ...          ...          ...          ...          ...   \n",
            "37970      1902         1902         1902         1902         1902   \n",
            "37971       137          137          137          137          137   \n",
            "37972       000          000          000          000          000   \n",
            "37973      1910         1910         1910         1910         1910   \n",
            "37974      1960         1960         1960         1960         1960   \n",
            "\n",
            "      CTS number10 CTS number9 CTS number8 CTS number6 CTS number5  \\\n",
            "0              nan         nan         nan         nan         nan   \n",
            "1              nan         nan         nan         nan         nan   \n",
            "2              nan         nan         nan         nan         nan   \n",
            "3              nan         nan         nan         nan         nan   \n",
            "4            1971        1971        1971        1971        1971    \n",
            "...            ...         ...         ...         ...         ...   \n",
            "37970         1902        1902        1902        1902        1902   \n",
            "37971          137         137         137         137         137   \n",
            "37972          000         000         000         000         000   \n",
            "37973         1910        1910        1910        1910        1910   \n",
            "37974         1960        1960        1960        1960        1960   \n",
            "\n",
            "      CTS number3 CTS number2 CTS number1 CTS number  \n",
            "0             nan         nan         nan        nan  \n",
            "1             nan         nan         nan        nan  \n",
            "2             nan         nan         nan        nan  \n",
            "3             nan         nan         nan        nan  \n",
            "4           1971        1971        1971       1971   \n",
            "...           ...         ...         ...        ...  \n",
            "37970        1902        1902        1902       1902  \n",
            "37971         137         137         137        137  \n",
            "37972         000         000         000        000  \n",
            "37973        1910        1910        1910       1910  \n",
            "37974        1960        1960        1960       1960  \n",
            "\n",
            "[37975 rows x 14 columns]\n"
          ]
        }
      ]
    },
    {
      "cell_type": "code",
      "source": [
        "data3[\"CTS number\"].value_counts()"
      ],
      "metadata": {
        "id": "FZwDUomuTMla",
        "colab": {
          "base_uri": "https://localhost:8080/"
        },
        "outputId": "d1f0cb89-a42b-4b79-d97c-ab33d8008cc3"
      },
      "execution_count": null,
      "outputs": [
        {
          "output_type": "execute_result",
          "data": {
            "text/plain": [
              "nan                                   9669\n",
              "1960                                   460\n",
              "00                                     409\n",
              "1944,1/1944,2/1944,3/1944 व 5/1944     364\n",
              "1944                                   334\n",
              "                                      ... \n",
              "1875,                                    1\n",
              "386 Part                                 1\n",
              "81,                                      1\n",
              "537/H,                                   1\n",
              "3ए/1871                                  1\n",
              "Name: CTS number, Length: 3860, dtype: int64"
            ]
          },
          "metadata": {},
          "execution_count": 100
        }
      ]
    },
    {
      "cell_type": "code",
      "source": [
        "data3.columns"
      ],
      "metadata": {
        "id": "83vFOoJVSlUe",
        "colab": {
          "base_uri": "https://localhost:8080/"
        },
        "outputId": "d8d4ee17-704a-4f1a-9a09-477ea11f80a2"
      },
      "execution_count": null,
      "outputs": [
        {
          "output_type": "execute_result",
          "data": {
            "text/plain": [
              "Index(['final_cts', 'CTS number14', 'CTS number13', 'CTS number12',\n",
              "       'CTS number11', 'CTS number10', 'CTS number9', 'CTS number8',\n",
              "       'CTS number6', 'CTS number5', 'CTS number3', 'CTS number2',\n",
              "       'CTS number1', 'CTS number'],\n",
              "      dtype='object')"
            ]
          },
          "metadata": {},
          "execution_count": 101
        }
      ]
    },
    {
      "cell_type": "code",
      "source": [
        "#df = df.assign(new_column=None)\n",
        "\n",
        "#print(df)"
      ],
      "metadata": {
        "id": "e6_ZH9dbiF2o"
      },
      "execution_count": null,
      "outputs": []
    },
    {
      "cell_type": "code",
      "source": [
        "# final column : combining data from all the columns\n",
        "data3['final']=data3[\"CTS number14\"]\n",
        "data3['final'] = data3['final'].fillna(data3[\"CTS number13\"])\n",
        "data3['final'] = data3['final'].fillna(data3[\"CTS number12\"])\n",
        "data3['final'] = data3['final'].fillna(data3[\"CTS number11\"])\n",
        "data3['final'] = data3['final'].fillna(data3[\"CTS number10\"])\n",
        "data3['final'] = data3['final'].fillna(data3[\"CTS number9\"])\n",
        "data3['final'] = data3['final'].fillna(data3[\"CTS number8\"])\n",
        "data3['final'] = data3['final'].fillna(data3[\"CTS number6\"])\n",
        "data3['final'] = data3['final'].fillna(data3[\"CTS number5\"])\n",
        "data3['final'] = data3['final'].fillna(data3[\"CTS number3\"])\n",
        "data3['final'] = data3['final'].fillna(data3[\"CTS number2\"])\n",
        "data3['final'] = data3['final'].fillna(data3[\"CTS number1\"])\n",
        "data3['final'] = data3['final'].fillna(data3[\"CTS number\"])"
      ],
      "metadata": {
        "id": "mkiaQ3rHY-YY"
      },
      "execution_count": null,
      "outputs": []
    },
    {
      "cell_type": "code",
      "source": [
        "data4 = data3['final']"
      ],
      "metadata": {
        "id": "0byoN6l_dMVh"
      },
      "execution_count": null,
      "outputs": []
    },
    {
      "cell_type": "code",
      "source": [
        "data4[\"cts\"]=data2[\"final_cts\"]\n",
        "print(data4.head(50))"
      ],
      "metadata": {
        "id": "RK5WdTJDgSMY",
        "colab": {
          "base_uri": "https://localhost:8080/"
        },
        "outputId": "de6fb704-3234-4b97-ab02-0cf8855203e4"
      },
      "execution_count": null,
      "outputs": [
        {
          "output_type": "stream",
          "name": "stdout",
          "text": [
            "0       nan\n",
            "1       nan\n",
            "2       nan\n",
            "3       nan\n",
            "4     1971 \n",
            "5       nan\n",
            "6       nan\n",
            "7       nan\n",
            "8       nan\n",
            "9     1785 \n",
            "10      nan\n",
            "11     222 \n",
            "12      nan\n",
            "13      nan\n",
            "14      nan\n",
            "15    1053 \n",
            "16      nan\n",
            "17      nan\n",
            "18      nan\n",
            "19      nan\n",
            "20      nan\n",
            "21      nan\n",
            "22      nan\n",
            "23      nan\n",
            "24      nan\n",
            "25      nan\n",
            "26      nan\n",
            "27      nan\n",
            "28      nan\n",
            "29      nan\n",
            "30      nan\n",
            "31      nan\n",
            "32      nan\n",
            "33      nan\n",
            "34      nan\n",
            "35      nan\n",
            "36      nan\n",
            "37      nan\n",
            "38      nan\n",
            "39      nan\n",
            "40      nan\n",
            "41      nan\n",
            "42      nan\n",
            "43      nan\n",
            "44      nan\n",
            "45     226 \n",
            "46      nan\n",
            "47      nan\n",
            "48      nan\n",
            "49      nan\n",
            "Name: final, dtype: object\n"
          ]
        }
      ]
    },
    {
      "cell_type": "code",
      "source": [
        "from google.colab import files\n",
        "# Export the DataFrame to Excel\n",
        "with open('byculla.xlsx', 'wb') as f:\n",
        "    data4.to_excel(f, index=False)\n",
        "\n",
        "# Download the Excel file\n",
        "files.download('byculla.xlsx')"
      ],
      "metadata": {
        "id": "e8k_pMh090Lf",
        "colab": {
          "base_uri": "https://localhost:8080/",
          "height": 17
        },
        "outputId": "ec9293f3-abca-4dc7-a668-47cead7e186f"
      },
      "execution_count": null,
      "outputs": [
        {
          "output_type": "display_data",
          "data": {
            "text/plain": [
              "<IPython.core.display.Javascript object>"
            ],
            "application/javascript": [
              "\n",
              "    async function download(id, filename, size) {\n",
              "      if (!google.colab.kernel.accessAllowed) {\n",
              "        return;\n",
              "      }\n",
              "      const div = document.createElement('div');\n",
              "      const label = document.createElement('label');\n",
              "      label.textContent = `Downloading \"${filename}\": `;\n",
              "      div.appendChild(label);\n",
              "      const progress = document.createElement('progress');\n",
              "      progress.max = size;\n",
              "      div.appendChild(progress);\n",
              "      document.body.appendChild(div);\n",
              "\n",
              "      const buffers = [];\n",
              "      let downloaded = 0;\n",
              "\n",
              "      const channel = await google.colab.kernel.comms.open(id);\n",
              "      // Send a message to notify the kernel that we're ready.\n",
              "      channel.send({})\n",
              "\n",
              "      for await (const message of channel.messages) {\n",
              "        // Send a message to notify the kernel that we're ready.\n",
              "        channel.send({})\n",
              "        if (message.buffers) {\n",
              "          for (const buffer of message.buffers) {\n",
              "            buffers.push(buffer);\n",
              "            downloaded += buffer.byteLength;\n",
              "            progress.value = downloaded;\n",
              "          }\n",
              "        }\n",
              "      }\n",
              "      const blob = new Blob(buffers, {type: 'application/binary'});\n",
              "      const a = document.createElement('a');\n",
              "      a.href = window.URL.createObjectURL(blob);\n",
              "      a.download = filename;\n",
              "      div.appendChild(a);\n",
              "      a.click();\n",
              "      div.remove();\n",
              "    }\n",
              "  "
            ]
          },
          "metadata": {}
        },
        {
          "output_type": "display_data",
          "data": {
            "text/plain": [
              "<IPython.core.display.Javascript object>"
            ],
            "application/javascript": [
              "download(\"download_0abd1ddd-6d36-4024-8b5a-9278569ff594\", \"byculla.xlsx\", 314692)"
            ]
          },
          "metadata": {}
        }
      ]
    }
  ]
}