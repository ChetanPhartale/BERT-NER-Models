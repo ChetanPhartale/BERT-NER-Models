{
  "nbformat": 4,
  "nbformat_minor": 0,
  "metadata": {
    "colab": {
      "provenance": []
    },
    "kernelspec": {
      "name": "python3",
      "display_name": "Python 3"
    },
    "language_info": {
      "name": "python"
    }
  },
  "cells": [
    {
      "cell_type": "code",
      "execution_count": null,
      "metadata": {
        "id": "dGOZk44wkCRv"
      },
      "outputs": [],
      "source": [
        "import pandas as pd\n",
        "import numpy as np"
      ]
    },
    {
      "cell_type": "code",
      "source": [
        "text = \"1)पालिकेचे नाव:मुंबई मनपाइतर वर्णन :सदनिका नं: सदनिका क्र 601, माळा नं: 6 वा मजला , इमारतीचे नाव: सरस्वती सदन , सरस्वती बाग , ब्लॉक नं: के जी एस सोसायटी जोगेश्वरी पुर्व मुंबई -४०००६०(  (     C.T.S. Number : 135 ;  )  )\""
      ],
      "metadata": {
        "id": "tZ8gf7sToxes"
      },
      "execution_count": null,
      "outputs": []
    },
    {
      "cell_type": "code",
      "source": [
        "regex1 = 'सी\\s+टी\\s+एस\\s+नं\\s+' # सी टी एस नं  **\n",
        "regex2 = 'सी\\s+टी\\s+स\\s+नं\\s+'  # सी टी स नं  **\n",
        "regex3 = 'सि\\s+टी\\s+स\\s+नं\\s+'  # सि टी स नं  **\n",
        "regex4 = 'सि\\s+टी\\s+एस\\s+नं\\s+' # सि टी एस नं  **\n",
        "regex5 = 'सि\\s+एस\\s+नं\\s+'     #  सि एस नं  **\n",
        "regex6 = 'सिएस\\s+नं\\s+'        # सिएस नं  **\n",
        "regex7 = 'सिटीएस\\s+नं\\s+'       # सिटीएस नं  **\n",
        "regex8 = 'सिटीएस\\s+नंबर\\s+'     # सिटीएस नंबर  **\n",
        "regex9 = 'CTS\\s+Number\\s+'    # CTS Number  **\n",
        "regex10 = 'C.T.S. Number :' # C.T.S. Number  **\n",
        "regex11 = 'सि.टी.एस.\\s+नंबर\\s+'     # सि.टी.एस. नंबर  **\n",
        "regex_list = [regex1, regex2, regex3, regex4, regex5, regex6, regex7, regex8, regex9, regex10, regex11]\n",
        "\n",
        "# text = \"1) पालिकेचे नाव:Mumbai Ma.na.pa. इतर वर्णन :सदनिका नं: रूम नं. 513, माळा नं: 5 वा मजला,बिल्डींग नं. आर 5, इमारतीचे नाव: श्री साई श्रद्धा को. ऑप. हौ. सो. लिमिटेड, ब्लॉक नं: एम एम आर डी ए कॉलनी,भक्ति पार्क, रोड नं: वडाला,मुंबई 400037, इतर  माहिती:  मौजे आणिक,सदनिकेचे क्षेत्रफळ 225 चौ. फूट कारपेट(  (     C.T.S. Number : 1A/13 ;  )  ) \"\n",
        "\n",
        "import re\n",
        "\n",
        "def extract_cts_code10(text):\n",
        "  for i in regex_list:\n",
        "    # Remove look-behind and construct new pattern\n",
        "    CTS_CODE_REGEX = rf\"{i}(.*)\"\n",
        "\n",
        "    match = re.search(CTS_CODE_REGEX, text)\n",
        "    if match:\n",
        "      return match.group(1).strip()  # Capture the matched CTS code (group 1) and remove whitespace\n",
        "  return None  # Return None if no match found\n",
        "\n",
        "cts_code = extract_cts_code10(text)\n",
        "# print(cts_code)\n",
        "\n",
        "# data2[\"CTS\"] = data2['Land building info'].apply(extract_cts_code10)\n",
        "\n",
        "# right_cleaning\n",
        "\n",
        "x1 = 'Plot Number'\n",
        "x2 = 'Final Plot Number'\n",
        "x3 = 'Kachara Number'\n",
        "x4 = 'GAT NUMBER'\n",
        "x5 = 'सि एस न'\n",
        "x6 = 'Ward no'\n",
        "x7 = 'Block Number'\n",
        "x8 = 'मध्दे आहे'\n",
        "x9 = 'जुना'\n",
        "x10 = 'क्षेत्र'\n",
        "x11 = 'सदनिका'\n",
        "x12 = 'दुकान'\n",
        "x13 = 'दस्तात'\n",
        "x14 = 'फ्ल्ॅट'\n",
        "x15 = 'रुम'\n",
        "x16 = 'गाळा'\n",
        "x17 = 'कालावधी'\n",
        "x18 = '; '\n",
        "x19 = 'भायखळा'\n",
        "x20 = 'of'\n",
        "x21 = 'गोडाऊन'\n",
        "x22 = 'गाला'\n",
        "\n",
        "x_list = [x1, x2, x3, x4, x5, x6, x7, x8, x9, x10, x11, x12, x13, x14, x15, x16, x17, x18, x19, x20, x21, x22]\n",
        "\n",
        "def remove_everything_from_character_to_end(string: str, character: str) -> str:\n",
        "\n",
        "  regex = rf\"{character}.*\"  # Escape the character for proper regex syntax\n",
        "  return re.sub(regex, \"\", string)\n",
        "\n",
        "def clean_text(text):\n",
        "  for character in x_list:\n",
        "    text = remove_everything_from_character_to_end(text, character)\n",
        "  return text\n",
        "\n",
        "cts_code = clean_text(cts_code)\n",
        "\n",
        "print(cts_code)\n",
        "\n",
        "# data2[\"CTS\"] = data2[\"CTS\"].apply(clean_text)"
      ],
      "metadata": {
        "id": "X8bJ0bMtoEpx",
        "colab": {
          "base_uri": "https://localhost:8080/"
        },
        "outputId": "03af5161-b05a-4058-890a-bd52f16b72d2"
      },
      "execution_count": null,
      "outputs": [
        {
          "output_type": "stream",
          "name": "stdout",
          "text": [
            "135 \n"
          ]
        }
      ]
    },
    {
      "cell_type": "code",
      "source": [],
      "metadata": {
        "id": "6blhNudivrkQ"
      },
      "execution_count": null,
      "outputs": []
    }
  ]
}